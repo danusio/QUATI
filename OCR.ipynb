{
 "cells": [
  {
   "cell_type": "markdown",
   "metadata": {},
   "source": [
    "[App](https://quati-ana-clara.streamlit.app/)"
   ]
  },
  {
   "cell_type": "code",
   "execution_count": 6,
   "metadata": {},
   "outputs": [
    {
     "name": "stdout",
     "output_type": "stream",
     "text": [
      "Collecting opencv-python\n",
      "  Downloading opencv_python-4.10.0.84-cp37-abi3-macosx_11_0_arm64.whl.metadata (20 kB)\n",
      "Requirement already satisfied: numpy>=1.21.2 in /Users/danusioguimaraes/Documents/Projects/iagnosis/.conda/lib/python3.11/site-packages (from opencv-python) (1.26.4)\n",
      "Downloading opencv_python-4.10.0.84-cp37-abi3-macosx_11_0_arm64.whl (54.8 MB)\n",
      "\u001b[2K   \u001b[90m━━━━━━━━━━━━━━━━━━━━━━━━━━━━━━━━━━━━━━━━\u001b[0m \u001b[32m54.8/54.8 MB\u001b[0m \u001b[31m42.3 MB/s\u001b[0m eta \u001b[36m0:00:00\u001b[0ma \u001b[36m0:00:01\u001b[0m\n",
      "\u001b[?25hInstalling collected packages: opencv-python\n",
      "Successfully installed opencv-python-4.10.0.84\n",
      "Note: you may need to restart the kernel to use updated packages.\n"
     ]
    }
   ],
   "source": [
    "# %pip install pytesseract pdf2image Pillow\n",
    "%pip install opencv-python"
   ]
  },
  {
   "cell_type": "code",
   "execution_count": 1,
   "metadata": {},
   "outputs": [
    {
     "data": {
      "text/plain": [
       "'/Users/danusioguimaraes/Downloads/QUATI'"
      ]
     },
     "execution_count": 1,
     "metadata": {},
     "output_type": "execute_result"
    }
   ],
   "source": [
    "import numpy as np\n",
    "import cv2\n",
    "import pytesseract\n",
    "from pdf2image import convert_from_path\n",
    "import PIL\n",
    "from PIL import Image\n",
    "import os\n",
    "import re\n",
    "\n",
    "os.getcwd()"
   ]
  },
  {
   "cell_type": "code",
   "execution_count": 2,
   "metadata": {},
   "outputs": [],
   "source": [
    "def preprocess_image(image):\n",
    "    # Convertendo a imagem para numpy array (necessário para usar OpenCV)\n",
    "    img_np = np.array(image)\n",
    "\n",
    "    # Converter a imagem para escala de cinza\n",
    "    gray = cv2.cvtColor(img_np, cv2.COLOR_BGR2GRAY)\n",
    "    \n",
    "    # Aplicar binarização (usando a técnica Otsu)\n",
    "    _, thresh = cv2.threshold(gray, 150, 255, cv2.THRESH_BINARY + cv2.THRESH_OTSU)\n",
    "\n",
    "    # Converter de volta para imagem PIL\n",
    "    return Image.fromarray(thresh)"
   ]
  },
  {
   "cell_type": "code",
   "execution_count": 10,
   "metadata": {},
   "outputs": [
    {
     "name": "stdout",
     "output_type": "stream",
     "text": [
      "ago. 4, Doc 2 body.png not found.\n",
      "Text for ago. 4, Doc 2 is generated.\n",
      "Text for ago. 4, Doc 3 is generated.\n",
      "Text for ago. 4, Doc 4 is generated.\n",
      "Text for ago. 4, Doc 5 is generated.\n",
      "Text for ago. 4, Doc 6 is generated.\n",
      "Text for ago. 4, Doc 7 is generated.\n",
      "Text for ago. 4, Doc 8 is generated.\n",
      "Text for ago. 4, Doc 2 added to final file.\n",
      "Text for ago. 4, Doc 3 added to final file.\n",
      "Text for ago. 4, Doc 4 added to final file.\n",
      "Text for ago. 4, Doc 5 added to final file.\n",
      "Text for ago. 4, Doc 6 added to final file.\n",
      "Text for ago. 4, Doc 7 added to final file.\n",
      "Text for ago. 4, Doc 8 added to final file.\n"
     ]
    }
   ],
   "source": [
    "list_prefix = ['ago. 4, Doc '+str(i) for i in range(2,9)]\n",
    "pytesseract.pytesseract.tesseract_cmd = r'/opt/homebrew/bin/tesseract'\n",
    "poppler_path = r'/opt/homebrew/bin/'\n",
    "PIL.Image.MAX_IMAGE_PIXELS = None\n",
    "custom_config = r'--oem 3 --psm 6'\n",
    "\n",
    "text_extracted = \"\"\n",
    "dict_heads = {}\n",
    "dict_bodies = {}\n",
    "for prefix in list_prefix:\n",
    "    # heads\n",
    "    try:\n",
    "        image_path = 'Heads/' + prefix + ' head.png'\n",
    "        image = Image.open(image_path)\n",
    "\n",
    "        processed_img = preprocess_image(image)\n",
    "\n",
    "        text = pytesseract.image_to_string(processed_img, lang='por', config=custom_config)\n",
    "        \n",
    "    except:\n",
    "        text = f\"{prefix + ' head.png'} not found.\"\n",
    "        print(text)\n",
    "    \n",
    "    dict_heads[prefix] = text\n",
    "\n",
    "    # bodies\n",
    "    try:\n",
    "        image_path = 'Bodies/' + prefix + ' body.png'\n",
    "        image = Image.open(image_path)\n",
    "\n",
    "        processed_img = preprocess_image(image)\n",
    "\n",
    "        text = pytesseract.image_to_string(processed_img, lang='por', config=custom_config)\n",
    "\n",
    "    except:\n",
    "        msg = f\"{prefix + ' body.png'} not found.\"\n",
    "        print(msg)\n",
    "        text = ''\n",
    "    \n",
    "    dict_bodies[prefix] = text\n",
    "\n",
    "    print(f\"Text for {prefix} is generated.\")\n",
    "    \n",
    "for prefix in list_prefix:\n",
    "    text_extracted += f\"\\n\\n{dict_heads[prefix]} ---\\n\\n{dict_bodies[prefix]}\"\n",
    "    print(f\"Text for {prefix} added to final file.\")\n",
    "\n",
    "text_extracted += '\\nEND'"
   ]
  },
  {
   "cell_type": "code",
   "execution_count": 11,
   "metadata": {},
   "outputs": [
    {
     "name": "stdout",
     "output_type": "stream",
     "text": [
      "Texto salvo com sucesso.\n"
     ]
    }
   ],
   "source": [
    "with open('texto_extraido.txt', 'w') as arquivo_texto:\n",
    "    arquivo_texto.write(text_extracted)\n",
    "\n",
    "print(\"Texto salvo com sucesso.\")"
   ]
  },
  {
   "cell_type": "markdown",
   "metadata": {},
   "source": [
    "# Output Processing"
   ]
  },
  {
   "cell_type": "code",
   "execution_count": 25,
   "metadata": {},
   "outputs": [
    {
     "name": "stdout",
     "output_type": "stream",
     "text": [
      "spostas que você já recebeu\n",
      "e deve ter preenchido corretamente com todos os dados que lhe são pedido\n"
     ]
    }
   ],
   "source": [
    "with open('texto_extraido - v1.txt', 'r') as file:\n",
    "    text_content = file.read()\n",
    "\n",
    "print(text_content[100:200])"
   ]
  },
  {
   "cell_type": "code",
   "execution_count": 13,
   "metadata": {},
   "outputs": [
    {
     "name": "stdout",
     "output_type": "stream",
     "text": [
      " target substring \n"
     ]
    }
   ],
   "source": [
    "def extract_substring(text, start_string, end_string):\n",
    "    start_index = text.find(start_string)\n",
    "    if start_index == -1:\n",
    "        return \"Start string not found\"\n",
    "    \n",
    "    start_index += len(start_string)\n",
    "    \n",
    "    end_index = text.find(end_string, start_index)\n",
    "    if end_index == -1:\n",
    "        return \"End string not found\"\n",
    "    \n",
    "    return text[start_index:end_index]\n",
    "\n",
    "text = \"This is a sample text with a [start] target substring [end] that we want to extract.\"\n",
    "start = \"[start]\"\n",
    "end = \"[end]\"\n",
    "\n",
    "substring = extract_substring(text, start, end)\n",
    "print(substring)"
   ]
  },
  {
   "cell_type": "code",
   "execution_count": 14,
   "metadata": {},
   "outputs": [
    {
     "name": "stdout",
     "output_type": "stream",
     "text": [
      "\n",
      "\n",
      "Observando Seus gostos e preferências pessoais, aquelas pequenas coisas que representam o seu Jeito particular de ser, \n",
      "quais seriam suas escolhas mais verdadeiras. Você se considera mais...\n",
      " ---\n",
      "\n",
      "1. a - comunicativo.\n",
      "b - observador.\n",
      "2. a - teórico.\n",
      "b - prático.\n",
      "3. a- racional.\n",
      "b - afetivo.\n",
      "4. a - expansivo.\n",
      "b - reservado.\n",
      "5. a- planejador.\n",
      "b - executor.\n",
      "6. a- objetivo.\n",
      "b - simpático.\n",
      "7. a - dinâmico.\n",
      "b - tranquilo.\n",
      "8. a- inovador.\n",
      "b - tradicional.\n",
      "9. a- verdadeiro, franco e direto.\n",
      "b - de por “panos quentes”.\n",
      "10. a - impulsivo.\n",
      "b - hesitante\n",
      "11. a - inventivo.\n",
      "rotineiro\n",
      "12. a - justo.\n",
      "b - misericordioso.\n",
      "13. a - um aventureiro.\n",
      "b - um pesquisador.\n",
      "14. a - improvisador.\n",
      "b - estrategista.\n",
      "15. a - impessoal e lógico.\n",
      "b - pessoal e sentimental.\n",
      "16. a - disperso.\n",
      "b- compenetrado.\n",
      "17.a- imprevisível.\n",
      "b- previsível.\n",
      "18. a - consistente e razoável nas suas idéias.\n",
      "b - profundo nos seus sentimentos.\n",
      "\n",
      "\n",
      "\n"
     ]
    }
   ],
   "source": [
    "starts = ['INSTRUÇÕES', 'A FESTA', 'O TRABALHO', 'A VIAGEM', 'VIDA PESSOAL', 'O LAZER', 'O ESTUDO']\n",
    "ends = ['A FESTA', 'O TRABALHO', 'A VIAGEM', 'VIDA PESSOAL', 'O LAZER', 'O ESTUDO', 'END']\n",
    "\n",
    "print(extract_substring(text_content, starts[4], ends[4]))"
   ]
  },
  {
   "cell_type": "code",
   "execution_count": 30,
   "metadata": {},
   "outputs": [],
   "source": [
    "question_number = 1\n",
    "questionario = {}\n",
    "headers = {}\n",
    "for i in range(1,len(starts)):\n",
    "    content = extract_substring(text_content, starts[i], ends[i])\n",
    "    list_content = content.split(' ---')\n",
    "\n",
    "    headers[starts[i]]=list_content[0].strip()\n",
    "\n",
    "    # Regular expression to find the questions (start with a number followed by \".\")\n",
    "    questions_list = re.split(r'(?m)(?=^\\d{1,2}\\.\\s)', list_content[1].strip())\n",
    "    \n",
    "    questions = []\n",
    "    for q in questions_list:  # Assuming 'questions_list' contains the list of questions\n",
    "        if q.strip():  # Only increment if the string is not empty\n",
    "            q_cleaned = q.split('.', 1)[1].strip()\n",
    "            q_cleaned = re.sub(r'(?<!\\w)a\\s*-\\s*', '', q_cleaned).strip()\n",
    "\n",
    "            options_list = re.split(r'b\\s*-\\s*', q_cleaned)\n",
    "            options_list.append('Nenhuma ou ambas.')\n",
    "\n",
    "            questions.append(('Q' + str(question_number), options_list))\n",
    "            question_number += 1\n",
    "\n",
    "    questionario[starts[i]] = dict(questions)"
   ]
  },
  {
   "cell_type": "code",
   "execution_count": 34,
   "metadata": {},
   "outputs": [
    {
     "data": {
      "text/plain": [
       "['a - geralmente critica as idéias de seus colegas.\\n',\n",
       " 'b - geralmente critica seus colegas.',\n",
       " 'Nenhuma ou ambas.']"
      ]
     },
     "execution_count": 34,
     "metadata": {},
     "output_type": "execute_result"
    }
   ],
   "source": [
    "[m+opt for m,opt in zip(['a - ', 'b - ', ''], options_list)]"
   ]
  },
  {
   "cell_type": "code",
   "execution_count": null,
   "metadata": {},
   "outputs": [],
   "source": []
  }
 ],
 "metadata": {
  "kernelspec": {
   "display_name": "Python 3",
   "language": "python",
   "name": "python3"
  },
  "language_info": {
   "codemirror_mode": {
    "name": "ipython",
    "version": 3
   },
   "file_extension": ".py",
   "mimetype": "text/x-python",
   "name": "python",
   "nbconvert_exporter": "python",
   "pygments_lexer": "ipython3",
   "version": "3.11.9"
  }
 },
 "nbformat": 4,
 "nbformat_minor": 2
}
