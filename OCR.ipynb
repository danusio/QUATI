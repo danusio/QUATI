{
 "cells": [
  {
   "cell_type": "code",
   "execution_count": 6,
   "metadata": {},
   "outputs": [
    {
     "name": "stdout",
     "output_type": "stream",
     "text": [
      "Collecting opencv-python\n",
      "  Downloading opencv_python-4.10.0.84-cp37-abi3-macosx_11_0_arm64.whl.metadata (20 kB)\n",
      "Requirement already satisfied: numpy>=1.21.2 in /Users/danusioguimaraes/Documents/Projects/iagnosis/.conda/lib/python3.11/site-packages (from opencv-python) (1.26.4)\n",
      "Downloading opencv_python-4.10.0.84-cp37-abi3-macosx_11_0_arm64.whl (54.8 MB)\n",
      "\u001b[2K   \u001b[90m━━━━━━━━━━━━━━━━━━━━━━━━━━━━━━━━━━━━━━━━\u001b[0m \u001b[32m54.8/54.8 MB\u001b[0m \u001b[31m42.3 MB/s\u001b[0m eta \u001b[36m0:00:00\u001b[0ma \u001b[36m0:00:01\u001b[0m\n",
      "\u001b[?25hInstalling collected packages: opencv-python\n",
      "Successfully installed opencv-python-4.10.0.84\n",
      "Note: you may need to restart the kernel to use updated packages.\n"
     ]
    }
   ],
   "source": [
    "# %pip install pytesseract pdf2image Pillow\n",
    "%pip install opencv-python"
   ]
  },
  {
   "cell_type": "code",
   "execution_count": 52,
   "metadata": {},
   "outputs": [
    {
     "data": {
      "text/plain": [
       "'/Users/danusioguimaraes/Downloads/QUATI'"
      ]
     },
     "execution_count": 52,
     "metadata": {},
     "output_type": "execute_result"
    }
   ],
   "source": [
    "import numpy as np\n",
    "import cv2\n",
    "import pytesseract\n",
    "from pdf2image import convert_from_path\n",
    "import PIL\n",
    "from PIL import Image\n",
    "import os\n",
    "import re\n",
    "\n",
    "os.getcwd()"
   ]
  },
  {
   "cell_type": "code",
   "execution_count": 11,
   "metadata": {},
   "outputs": [],
   "source": [
    "def preprocess_image(image):\n",
    "    # Convertendo a imagem para numpy array (necessário para usar OpenCV)\n",
    "    img_np = np.array(image)\n",
    "\n",
    "    # Converter a imagem para escala de cinza\n",
    "    gray = cv2.cvtColor(img_np, cv2.COLOR_BGR2GRAY)\n",
    "    \n",
    "    # Aplicar binarização (usando a técnica Otsu)\n",
    "    _, thresh = cv2.threshold(gray, 150, 255, cv2.THRESH_BINARY + cv2.THRESH_OTSU)\n",
    "\n",
    "    # Converter de volta para imagem PIL\n",
    "    return Image.fromarray(thresh)"
   ]
  },
  {
   "cell_type": "code",
   "execution_count": 23,
   "metadata": {},
   "outputs": [
    {
     "name": "stdout",
     "output_type": "stream",
     "text": [
      "ago. 4, Doc 2 body.png not found.\n",
      "Text for ago. 4, Doc 2 is generated.\n",
      "Text for ago. 4, Doc 3 is generated.\n",
      "Text for ago. 4, Doc 4 is generated.\n",
      "Text for ago. 4, Doc 5 is generated.\n",
      "Text for ago. 4, Doc 2 added to final file.\n",
      "Text for ago. 4, Doc 3 added to final file.\n",
      "Text for ago. 4, Doc 4 added to final file.\n",
      "Text for ago. 4, Doc 5 added to final file.\n"
     ]
    }
   ],
   "source": [
    "list_prefix = ['ago. 4, Doc 2', 'ago. 4, Doc 3', 'ago. 4, Doc 4', 'ago. 4, Doc 5']\n",
    "pytesseract.pytesseract.tesseract_cmd = r'/opt/homebrew/bin/tesseract'\n",
    "poppler_path = r'/opt/homebrew/bin/'\n",
    "PIL.Image.MAX_IMAGE_PIXELS = None\n",
    "custom_config = r'--oem 3 --psm 6'\n",
    "\n",
    "text_extracted = \"\"\n",
    "dict_heads = {}\n",
    "dict_bodies = {}\n",
    "for prefix in list_prefix:\n",
    "    # heads\n",
    "    try:\n",
    "        image_path = 'Heads/' + prefix + ' head.png'\n",
    "        image = Image.open(image_path)\n",
    "\n",
    "        processed_img = preprocess_image(image)\n",
    "\n",
    "        text = pytesseract.image_to_string(processed_img, lang='por', config=custom_config)\n",
    "        \n",
    "    except:\n",
    "        text = f\"{prefix + ' head.png'} not found.\"\n",
    "        print(text)\n",
    "    \n",
    "    dict_heads[prefix] = text\n",
    "\n",
    "    # bodies\n",
    "    try:\n",
    "        image_path = 'Bodies/' + prefix + ' body.png'\n",
    "        image = Image.open(image_path)\n",
    "\n",
    "        processed_img = preprocess_image(image)\n",
    "\n",
    "        text = pytesseract.image_to_string(processed_img, lang='por', config=custom_config)\n",
    "\n",
    "    except:\n",
    "        msg = f\"{prefix + ' body.png'} not found.\"\n",
    "        print(msg)\n",
    "        text = ''\n",
    "    \n",
    "    dict_bodies[prefix] = text\n",
    "\n",
    "    print(f\"Text for {prefix} is generated.\")\n",
    "    \n",
    "for prefix in list_prefix:\n",
    "    text_extracted += f\"\\n\\n--- Doc: {prefix} ---\\n{dict_heads[prefix]} ---\\n{dict_bodies[prefix]}\"\n",
    "    print(f\"Text for {prefix} added to final file.\")\n",
    "\n",
    "text_extracted += '\\nEND'"
   ]
  },
  {
   "cell_type": "code",
   "execution_count": 24,
   "metadata": {},
   "outputs": [
    {
     "name": "stdout",
     "output_type": "stream",
     "text": [
      "Texto salvo com sucesso.\n"
     ]
    }
   ],
   "source": [
    "with open('texto_extraido.txt', 'w') as arquivo_texto:\n",
    "    arquivo_texto.write(text_extracted)\n",
    "\n",
    "print(\"Texto salvo com sucesso.\")"
   ]
  },
  {
   "cell_type": "markdown",
   "metadata": {},
   "source": [
    "# Output Processing"
   ]
  },
  {
   "cell_type": "code",
   "execution_count": 47,
   "metadata": {},
   "outputs": [
    {
     "name": "stdout",
     "output_type": "stream",
     "text": [
      "spostas que você já recebeu\n",
      "e deve ter preenchido corretamente com todos os dados que lhe são pedido\n"
     ]
    }
   ],
   "source": [
    "with open('texto_extraido - v0.txt', 'r') as file:\n",
    "    text_content = file.read()\n",
    "\n",
    "print(text_content[100:200])"
   ]
  },
  {
   "cell_type": "code",
   "execution_count": 27,
   "metadata": {},
   "outputs": [
    {
     "name": "stdout",
     "output_type": "stream",
     "text": [
      " target substring \n"
     ]
    }
   ],
   "source": [
    "def extract_substring(text, start_string, end_string):\n",
    "    start_index = text.find(start_string)\n",
    "    if start_index == -1:\n",
    "        return \"Start string not found\"\n",
    "    \n",
    "    start_index += len(start_string)\n",
    "    \n",
    "    end_index = text.find(end_string, start_index)\n",
    "    if end_index == -1:\n",
    "        return \"End string not found\"\n",
    "    \n",
    "    return text[start_index:end_index]\n",
    "\n",
    "# Example usage:\n",
    "text = \"This is a sample text with a [start] target substring [end] that we want to extract.\"\n",
    "start = \"[start]\"\n",
    "end = \"[end]\"\n",
    "\n",
    "substring = extract_substring(text, start, end)\n",
    "print(substring)"
   ]
  },
  {
   "cell_type": "code",
   "execution_count": 42,
   "metadata": {},
   "outputs": [
    {
     "name": "stdout",
     "output_type": "stream",
     "text": [
      "\n",
      "\n",
      "Supondo que você está em uma festa. Estão presentes muitas pessoas que você conhece\n",
      "e outras que você não conhece. Há uma alegre movimentação no salão, com muita comida\n",
      "e bebida, além de música animada. Então você...\n",
      " ---\n",
      "1. a- aprecia todo este movimento.\n",
      "b - pensa que talvez fosse melhor ter ficado em casa.\n",
      "2. a-fica atento para oportunidades de contato que possam To fest\n",
      "b - presta atenção especial na organização e nos detalhes da festa.\n",
      "3. a- procura conversar sobre suas idéias e opiniões. . ind\n",
      "b - prefere conversar sobre o que as pessoas gostam e estão sentindo.\n",
      "—  b- prefere conversar sobre o que as pessoas gostam eesMo MEO\n",
      "4. a- presta atenção a tudo e em todos a sua volta.\n",
      "b - está mais voltado para seu possível incômodo pessoal.\n",
      "5. a- não fica reparando nos detalhes da festa.\n",
      "b - atenta especialmente para todos os detalhes e não os esquecerá.\n",
      "6. a - não hesita em questionar os pontos de vista dos convidados.\n",
      "b - procura não criticar os outros para não criar um clima desagradável.\n",
      "7. a - procura conversar com o maior número de pessoas possível.\n",
      "b - conversa com poucas pessoas.\n",
      "8. a- não se preocupa em aproveitar o conforto oferecido, isto não lhe chama a atenção.\n",
      "b - aproveita, com prazer, o conforto do ambiente.\n",
      "9. a - expõe suas idéias de maneira clara para quem se aproximar.\n",
      "b - torna-se receptível e amigável com quem se aproxima.\n",
      "10. a - não liga para o fato de haver tantas pessoas desconhecidas.\n",
      "b - fica retraído por haver tantos desconhecidos e não se interessa em conhecê-los.\n",
      "11. a - já está imaginando como poderia ser uma nova festa.\n",
      "b - pensa nos problemas práticos que ocorreram para se organizar esta festa.\n",
      "12. a - numa conversação pode discordar e reafirmará a sua idéia até o fim.\n",
      "b - concorda com os outros para não estragar a festa.\n",
      "13. a - quando recebeu o convite para a festa aceitou-o imediatamente.\n",
      "b - quando recebeu o convite para a festa pensou antes de aceitá-lo.\n",
      "14. a - não fica reparando no que os outros têm ou fazem.\n",
      "b - repara no comportamento não convencional dos outros.\n",
      "15. a - não se importa em criticar até mesmo o dono da festa, se isto for necessário.\n",
      "b - procura ressaltar os pontos positivos da festa, para quem a promoveu.\n",
      "\n",
      "\n"
     ]
    }
   ],
   "source": [
    "starts = ['INSTRUÇÕES', 'A FESTA', 'O TRABALHO', 'A VIAGEM']\n",
    "ends = ['A FESTA', 'O TRABALHO', 'A VIAGEM', 'END']\n",
    "\n",
    "print(extract_substring(text_content, starts[1], ends[1]))"
   ]
  },
  {
   "cell_type": "code",
   "execution_count": 108,
   "metadata": {},
   "outputs": [],
   "source": [
    "questionario = {}\n",
    "for i in range(1,len(starts)):\n",
    "    content = extract_substring(text_content, starts[i], ends[i])\n",
    "    list_content = content.split(' ---')\n",
    "    # Regular expression to find the questions (start with a number followed by \".\")\n",
    "    questions_list = re.split(r'(?m)(?=^\\d{1,2}\\.\\s)', list_content[1].strip())\n",
    "\n",
    "    questions = []\n",
    "    question_number = 1\n",
    "    for q in questions_list:  # Assuming 'questions_list' contains the list of questions\n",
    "        if q.strip():  # Only increment if the string is not empty\n",
    "            # questions.append(('Q' + str(question_number), [q.strip()]))\n",
    "            questions.append(('Q' + str(question_number), re.split(r'b\\s*-\\s*', q.strip().replace('a -', '').replace('a-', ''))))\n",
    "            question_number += 1\n",
    "\n",
    "    questionario[starts[i]] = dict(questions)\n",
    "    # questions = [('Q'+str(j+1), [q.strip()]) for q, j in zip(questions, range(len(questions))) if q]\n"
   ]
  },
  {
   "cell_type": "code",
   "execution_count": 109,
   "metadata": {},
   "outputs": [
    {
     "data": {
      "text/plain": [
       "{'Q1': ['1.  não pensou muito para escolher o lugar para onde a aonde irá viajar.\\n',\n",
       "  'ponderou uma série de informações antes de decidir-se para onde ir.'],\n",
       " 'Q2': ['2.  pode alterar o roteiro da viagem no meio do caminho.\\n',\n",
       "  'cumpre o mais possível o roteiro da viagem.'],\n",
       " 'Q3': ['3.  tem maior interesse em conhecer os fatos do local visitado.\\n',\n",
       "  'tem maior interesse em conhecer o estilo de vida das pessoas que encontrar.'],\n",
       " 'Q4': ['4.  organiza um roteiro em que passe pela maioria dos pontos turísticos disponíveis.\\n',\n",
       "  'visita somente alguns pontos turísticos mais importantes.'],\n",
       " 'Q5': ['5. vive mais intensamente a expectativa da viagem.\\n',\n",
       "  'vive mais intensamente o momento da viagem.'],\n",
       " 'Q6': ['6.  está mais interessado nos conteúdos que irá aprender.\\n',\n",
       "  'está mais interessado nas emoções que irá sentir.'],\n",
       " 'Q7': ['7.  prefere viajar em um grupo grande de pessoas.\\n',\n",
       "  'prefere viajar em um Pequeno grupo de amigos.'],\n",
       " 'Q8': ['8.  sente-se mais motivado no planejamento e preparativos para a viagem.\\n',\n",
       "  'sente-se mais motivado quando a viagem se inicia.'],\n",
       " 'Q9': ['9.  organiza o roteiro da viagem de maneira lógica e objetiva.\\n',\n",
       "  'organiza o roteiro da viagem tomando por base o que mais gosta de fazer.'],\n",
       " 'Q10': ['10.  costuma não se demorar nos lugares que conhece para poder ver todos os outros.\\n',\n",
       "  'costuma deter-se em algum lugar que lhe cause interesse, mesmo que não veja os outros.'],\n",
       " 'Q11': ['11.  durante a viagem tende a ser desorganizado com horários e roteiros.\\n',\n",
       "  'durante a viagem é organizado e prático com horários e roteiros.'],\n",
       " 'Q12': ['12.  expressa suas opiniões sobre os lugares sem se preocupar com o clima do grupo.\\n',\n",
       "  'procura manter um clima harmonioso entre todos.'],\n",
       " 'Q13': ['13.  está mais interessado nas atividades fisicas esportivas.\\n',\n",
       "  'está mais interessado em tranquilas caminhadas.'],\n",
       " 'Q14': ['14.  prefere divagar pensando na próxima viagem a ser feita.\\n',\n",
       "  'prefere aproveitar bem todo o conforto que está sendo oferecido agora.'],\n",
       " 'Q15': ['15.  retorna da viagem com a sequência de fatos bem ordenada na memória.\\n',\n",
       "  'retorna da viagem com uma coleção de lembranças afetivas e sentimentais.']}"
      ]
     },
     "execution_count": 109,
     "metadata": {},
     "output_type": "execute_result"
    }
   ],
   "source": [
    "dict(questions)"
   ]
  },
  {
   "cell_type": "code",
   "execution_count": 96,
   "metadata": {},
   "outputs": [
    {
     "name": "stdout",
     "output_type": "stream",
     "text": [
      "\n",
      "\n",
      "Supondo que você vai viajar. É uma viagem de férias e você passará quase um mês\n",
      "fora de casa. Então você...\n",
      "\n"
     ]
    }
   ],
   "source": [
    "print(list_content[0])"
   ]
  },
  {
   "cell_type": "code",
   "execution_count": 93,
   "metadata": {},
   "outputs": [
    {
     "name": "stdout",
     "output_type": "stream",
     "text": [
      "\n",
      "1. a- não pensou muito para escolher o lugar para onde a aonde irá viajar.\n",
      "b - ponderou uma série de informações antes de decidir-se para onde ir.\n",
      "2. a- pode alterar o roteiro da viagem no meio do caminho.\n",
      "b - cumpre o mais possível o roteiro da viagem.\n",
      "3. a- tem maior interesse em conhecer os fatos do local visitado.\n",
      "b - tem maior interesse em conhecer o estilo de vida das pessoas que encontrar.\n",
      "4. a - organiza um roteiro em que passe pela maioria dos pontos turísticos disponíveis.\n",
      "b - visita somente alguns pontos turísticos mais importantes.\n",
      "5. a-vive mais intensamente a expectativa da viagem.\n",
      "b - vive mais intensamente o momento da viagem.\n",
      "6. a - está mais interessado nos conteúdos que irá aprender.\n",
      "b - está mais interessado nas emoções que irá sentir.\n",
      "7. a- prefere viajar em um grupo grande de pessoas.\n",
      "b - prefere viajar em um Pequeno grupo de amigos.\n",
      "8. a- sente-se mais motivado no planejamento e preparativos para a viagem.\n",
      "b - sente-se mais motivado quando a viagem se inicia.\n",
      "9. a- organiza o roteiro da viagem de maneira lógica e objetiva.\n",
      "b - organiza o roteiro da viagem tomando por base o que mais gosta de fazer.\n",
      "10. a - costuma não se demorar nos lugares que conhece para poder ver todos os outros.\n",
      "b - costuma deter-se em algum lugar que lhe cause interesse, mesmo que não veja os outros.\n",
      "11. a - durante a viagem tende a ser desorganizado com horários e roteiros.\n",
      "b - durante a viagem é organizado e prático com horários e roteiros.\n",
      "12. a - expressa suas opiniões sobre os lugares sem se preocupar com o clima do grupo.\n",
      "b - procura manter um clima harmonioso entre todos.\n",
      "13. a - está mais interessado nas atividades fisicas esportivas.\n",
      "b - está mais interessado em tranquilas caminhadas.\n",
      "14. a - prefere divagar pensando na próxima viagem a ser feita.\n",
      "b - prefere aproveitar bem todo o conforto que está sendo oferecido agora.\n",
      "15. a - retorna da viagem com a sequência de fatos bem ordenada na memória.\n",
      "b - retorna da viagem com uma coleção de lembranças afetivas e sentimentais.\n",
      "\n",
      "\n"
     ]
    }
   ],
   "source": [
    "print(list_content[1])"
   ]
  }
 ],
 "metadata": {
  "kernelspec": {
   "display_name": "Python 3",
   "language": "python",
   "name": "python3"
  },
  "language_info": {
   "codemirror_mode": {
    "name": "ipython",
    "version": 3
   },
   "file_extension": ".py",
   "mimetype": "text/x-python",
   "name": "python",
   "nbconvert_exporter": "python",
   "pygments_lexer": "ipython3",
   "version": "3.11.9"
  }
 },
 "nbformat": 4,
 "nbformat_minor": 2
}
